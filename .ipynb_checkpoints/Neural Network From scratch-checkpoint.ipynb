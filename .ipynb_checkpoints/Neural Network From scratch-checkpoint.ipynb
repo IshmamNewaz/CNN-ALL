{
 "cells": [
  {
   "cell_type": "code",
   "execution_count": 1,
   "id": "0f6c6137",
   "metadata": {},
   "outputs": [],
   "source": [
    "from keras.models import Sequential\n",
    "from keras.layers import Conv2D, MaxPooling2D, Flatten, Dense\n"
   ]
  },
  {
   "cell_type": "code",
   "execution_count": 2,
   "id": "11dacf89",
   "metadata": {},
   "outputs": [],
   "source": [
    "classifier = Sequential() #actual model/Nueral Network"
   ]
  },
  {
   "cell_type": "code",
   "execution_count": 3,
   "id": "fac3d579",
   "metadata": {},
   "outputs": [],
   "source": [
    "classifier.add(Conv2D(32, (3,3), input_shape=(64,64,3), activation='relu')) #First convulution Layer\n",
    "#input_Shape is added when it is the First layer"
   ]
  },
  {
   "cell_type": "code",
   "execution_count": 4,
   "id": "d97482f5",
   "metadata": {},
   "outputs": [],
   "source": [
    "classifier.add(Conv2D(32, (3,3), activation='relu'))# Second Convulution layer\n",
    "classifier.add(MaxPooling2D(pool_size=(2,2))) #MaxPool filter size 2x2"
   ]
  },
  {
   "cell_type": "code",
   "execution_count": 5,
   "id": "d0a199a7",
   "metadata": {},
   "outputs": [],
   "source": [
    "classifier.add(Flatten()) #Flattening The layer to a single array to reduce demensions"
   ]
  },
  {
   "cell_type": "code",
   "execution_count": 6,
   "id": "7a75cbe9",
   "metadata": {},
   "outputs": [],
   "source": [
    "classifier.add(Dense(units=128,activation='relu')) # Full connection\n",
    "classifier.add(Dense(units=1,activation='sigmoid'))"
   ]
  },
  {
   "cell_type": "code",
   "execution_count": 7,
   "id": "7d58603e",
   "metadata": {},
   "outputs": [],
   "source": [
    "classifier.compile(optimizer='adam', loss='binary_crossentropy', metrics=['accuracy']) #compiling CNN"
   ]
  },
  {
   "cell_type": "code",
   "execution_count": 8,
   "id": "60233b66",
   "metadata": {},
   "outputs": [],
   "source": [
    "#Fitting CNN to the images\n",
    "from tensorflow.keras.preprocessing.image import ImageDataGenerator\n",
    "train_datagen = ImageDataGenerator(rescale=1./255,\n",
    "                                  shear_range = 0.2,\n",
    "                                  zoom_range = 0.2,\n",
    "                                  horizontal_flip= True)\n"
   ]
  },
  {
   "cell_type": "code",
   "execution_count": 19,
   "id": "c3da52ef",
   "metadata": {},
   "outputs": [
    {
     "name": "stdout",
     "output_type": "stream",
     "text": [
      "Found 8000 images belonging to 2 classes.\n"
     ]
    }
   ],
   "source": [
    "training_set = train_datagen.flow_from_directory('dataset/training_set',\n",
    "                                                target_size=(64,64),\n",
    "                                                batch_size = 1,\n",
    "                                                class_mode='binary')"
   ]
  },
  {
   "cell_type": "code",
   "execution_count": 17,
   "id": "64162e35",
   "metadata": {},
   "outputs": [
    {
     "name": "stdout",
     "output_type": "stream",
     "text": [
      "Found 2000 images belonging to 2 classes.\n"
     ]
    }
   ],
   "source": [
    "test_datagen = ImageDataGenerator(rescale=1./255)\n",
    "testing_set = test_datagen.flow_from_directory('dataset/test_set',\n",
    "                                                target_size=(64,64),\n",
    "                                                batch_size = 32,\n",
    "                                                class_mode='binary')"
   ]
  },
  {
   "cell_type": "code",
   "execution_count": null,
   "id": "c9d9b75a-0efa-4b02-9de9-db09f966ca44",
   "metadata": {},
   "outputs": [],
   "source": []
  },
  {
   "cell_type": "code",
   "execution_count": 55,
   "id": "fffbeca6",
   "metadata": {
    "scrolled": true
   },
   "outputs": [
    {
     "name": "stdout",
     "output_type": "stream",
     "text": [
      "Epoch 1/25\n",
      "7998/8000 [============================>.] - ETA: 0s - loss: 0.5089 - accuracy: 0.7541WARNING:tensorflow:Your input ran out of data; interrupting training. Make sure that your dataset or generator can generate at least `steps_per_epoch * epochs` batches (in this case, 2000 batches). You may need to use the repeat() function when building your dataset.\n"
     ]
    },
    {
     "name": "stderr",
     "output_type": "stream",
     "text": [
      "WARNING:tensorflow:Your input ran out of data; interrupting training. Make sure that your dataset or generator can generate at least `steps_per_epoch * epochs` batches (in this case, 2000 batches). You may need to use the repeat() function when building your dataset.\n"
     ]
    },
    {
     "name": "stdout",
     "output_type": "stream",
     "text": [
      "8000/8000 [==============================] - 54s 7ms/step - loss: 0.5089 - accuracy: 0.7540 - val_loss: 0.5624 - val_accuracy: 0.7315\n",
      "Epoch 2/25\n",
      "8000/8000 [==============================] - 50s 6ms/step - loss: 0.4983 - accuracy: 0.7598\n",
      "Epoch 3/25\n",
      "8000/8000 [==============================] - 50s 6ms/step - loss: 0.4958 - accuracy: 0.7638\n",
      "Epoch 4/25\n",
      "8000/8000 [==============================] - 50s 6ms/step - loss: 0.4951 - accuracy: 0.7651\n",
      "Epoch 5/25\n",
      "8000/8000 [==============================] - 50s 6ms/step - loss: 0.4907 - accuracy: 0.7657\n",
      "Epoch 6/25\n",
      "8000/8000 [==============================] - 51s 6ms/step - loss: 0.4705 - accuracy: 0.7775\n",
      "Epoch 7/25\n",
      "8000/8000 [==============================] - 51s 6ms/step - loss: 0.4680 - accuracy: 0.7851\n",
      "Epoch 8/25\n",
      "8000/8000 [==============================] - 51s 6ms/step - loss: 0.4553 - accuracy: 0.7883\n",
      "Epoch 9/25\n",
      "8000/8000 [==============================] - 50s 6ms/step - loss: 0.4460 - accuracy: 0.7918\n",
      "Epoch 10/25\n",
      "8000/8000 [==============================] - 51s 6ms/step - loss: 0.4356 - accuracy: 0.8005\n",
      "Epoch 11/25\n",
      "8000/8000 [==============================] - 50s 6ms/step - loss: 0.4237 - accuracy: 0.8060\n",
      "Epoch 12/25\n",
      "8000/8000 [==============================] - 51s 6ms/step - loss: 0.4293 - accuracy: 0.8026\n",
      "Epoch 13/25\n",
      "8000/8000 [==============================] - 50s 6ms/step - loss: 0.4137 - accuracy: 0.8175\n",
      "Epoch 14/25\n",
      "8000/8000 [==============================] - 51s 6ms/step - loss: 0.4236 - accuracy: 0.8069\n",
      "Epoch 15/25\n",
      "8000/8000 [==============================] - 53s 7ms/step - loss: 0.3960 - accuracy: 0.8188\n",
      "Epoch 16/25\n",
      "8000/8000 [==============================] - 52s 7ms/step - loss: 0.4075 - accuracy: 0.8179\n",
      "Epoch 17/25\n",
      "8000/8000 [==============================] - 51s 6ms/step - loss: 0.3945 - accuracy: 0.8254\n",
      "Epoch 18/25\n",
      "8000/8000 [==============================] - 52s 7ms/step - loss: 0.3854 - accuracy: 0.8273\n",
      "Epoch 19/25\n",
      "8000/8000 [==============================] - 55s 7ms/step - loss: 0.3850 - accuracy: 0.8289\n",
      "Epoch 20/25\n",
      "8000/8000 [==============================] - 56s 7ms/step - loss: 0.3865 - accuracy: 0.8342\n",
      "Epoch 21/25\n",
      "8000/8000 [==============================] - 51s 6ms/step - loss: 0.3744 - accuracy: 0.8364\n",
      "Epoch 22/25\n",
      "8000/8000 [==============================] - 51s 6ms/step - loss: 0.3778 - accuracy: 0.8325\n",
      "Epoch 23/25\n",
      "8000/8000 [==============================] - 52s 6ms/step - loss: 0.3668 - accuracy: 0.8439\n",
      "Epoch 24/25\n",
      "8000/8000 [==============================] - 50s 6ms/step - loss: 0.3625 - accuracy: 0.8447\n",
      "Epoch 25/25\n",
      "8000/8000 [==============================] - 51s 6ms/step - loss: 0.3452 - accuracy: 0.8493\n"
     ]
    },
    {
     "data": {
      "text/plain": [
       "<keras.callbacks.History at 0x283a3279430>"
      ]
     },
     "execution_count": 55,
     "metadata": {},
     "output_type": "execute_result"
    }
   ],
   "source": [
    "classifier.fit(training_set,\n",
    "                        steps_per_epoch=8000,\n",
    "                        epochs = 25,\n",
    "                        validation_data = testing_set,\n",
    "                        validation_steps=2000)\n",
    "#validation_steps = number of images that will be cross validated each epoch"
   ]
  },
  {
   "cell_type": "code",
   "execution_count": 58,
   "id": "95d711b4",
   "metadata": {},
   "outputs": [
    {
     "name": "stdout",
     "output_type": "stream",
     "text": [
      "1/1 [==============================] - 0s 25ms/step\n",
      "DOG\n"
     ]
    }
   ],
   "source": [
    "#Making Predictions\n",
    "import numpy as np\n",
    "from tensorflow.keras.preprocessing import image\n",
    "test_image = image.load_img('dataset/single_prediction/catz.jpg', target_size=(64,64))\n",
    "test_image = image.img_to_array(test_image)\n",
    "test_image = np.expand_dims(test_image, axis = 0)\n",
    "result = classifier.predict(test_image)\n",
    "training_set.class_indices\n",
    "if result[0][0] ==1:\n",
    "    prediction = 'DOG'\n",
    "else: \n",
    "    prediction = 'CAT'\n",
    "print(prediction)"
   ]
  },
  {
   "cell_type": "code",
   "execution_count": 59,
   "id": "1d98452b",
   "metadata": {},
   "outputs": [
    {
     "name": "stderr",
     "output_type": "stream",
     "text": [
      "WARNING:absl:Found untraced functions such as _jit_compiled_convolution_op, _jit_compiled_convolution_op while saving (showing 2 of 2). These functions will not be directly callable after loading.\n"
     ]
    },
    {
     "name": "stdout",
     "output_type": "stream",
     "text": [
      "INFO:tensorflow:Assets written to: Classifier2\\assets\n"
     ]
    },
    {
     "name": "stderr",
     "output_type": "stream",
     "text": [
      "INFO:tensorflow:Assets written to: Classifier2\\assets\n"
     ]
    }
   ],
   "source": [
    "classifier.save('Classifier.h5')\n",
    "classifier.save('Classifier2')"
   ]
  },
  {
   "cell_type": "code",
   "execution_count": 60,
   "id": "55033630-fde8-45eb-824b-46067f118e53",
   "metadata": {},
   "outputs": [],
   "source": [
    "from tensorflow.keras.models import load_model"
   ]
  },
  {
   "cell_type": "code",
   "execution_count": 61,
   "id": "da043307-4bdb-4aa3-8041-ad217241c68e",
   "metadata": {},
   "outputs": [],
   "source": [
    "My_Model = load_model('Classifier.h5')\n",
    "My_Model2 = load_model('Classifier2')"
   ]
  },
  {
   "cell_type": "code",
   "execution_count": 62,
   "id": "fb3b8bca-5925-445f-8f15-2d380bcb0c28",
   "metadata": {},
   "outputs": [
    {
     "name": "stdout",
     "output_type": "stream",
     "text": [
      "Model: \"sequential\"\n",
      "_________________________________________________________________\n",
      " Layer (type)                Output Shape              Param #   \n",
      "=================================================================\n",
      " conv2d (Conv2D)             (None, 62, 62, 32)        896       \n",
      "                                                                 \n",
      " conv2d_1 (Conv2D)           (None, 60, 60, 32)        9248      \n",
      "                                                                 \n",
      " max_pooling2d (MaxPooling2D  (None, 30, 30, 32)       0         \n",
      " )                                                               \n",
      "                                                                 \n",
      " flatten (Flatten)           (None, 28800)             0         \n",
      "                                                                 \n",
      " dense (Dense)               (None, 128)               3686528   \n",
      "                                                                 \n",
      " dense_1 (Dense)             (None, 1)                 129       \n",
      "                                                                 \n",
      "=================================================================\n",
      "Total params: 3,696,801\n",
      "Trainable params: 3,696,801\n",
      "Non-trainable params: 0\n",
      "_________________________________________________________________\n",
      "Model: \"sequential\"\n",
      "_________________________________________________________________\n",
      " Layer (type)                Output Shape              Param #   \n",
      "=================================================================\n",
      " conv2d (Conv2D)             (None, 62, 62, 32)        896       \n",
      "                                                                 \n",
      " conv2d_1 (Conv2D)           (None, 60, 60, 32)        9248      \n",
      "                                                                 \n",
      " max_pooling2d (MaxPooling2D  (None, 30, 30, 32)       0         \n",
      " )                                                               \n",
      "                                                                 \n",
      " flatten (Flatten)           (None, 28800)             0         \n",
      "                                                                 \n",
      " dense (Dense)               (None, 128)               3686528   \n",
      "                                                                 \n",
      " dense_1 (Dense)             (None, 1)                 129       \n",
      "                                                                 \n",
      "=================================================================\n",
      "Total params: 3,696,801\n",
      "Trainable params: 3,696,801\n",
      "Non-trainable params: 0\n",
      "_________________________________________________________________\n"
     ]
    }
   ],
   "source": [
    "My_Model.summary()\n",
    "My_Model2.summary()"
   ]
  },
  {
   "cell_type": "code",
   "execution_count": 63,
   "id": "6a7a47c9-8485-41d9-a5b5-8d0d2cf4d44c",
   "metadata": {},
   "outputs": [
    {
     "name": "stdout",
     "output_type": "stream",
     "text": [
      "1/1 [==============================] - 0s 74ms/step\n",
      "DOG\n"
     ]
    }
   ],
   "source": [
    "#Making Predictions\n",
    "import numpy as np\n",
    "from tensorflow.keras.preprocessing import image\n",
    "test_image = image.load_img('dataset/single_prediction/cute-domestic-kitten-sits-window-staring-outside-generative-ai.jpg', target_size=(64,64))\n",
    "test_image = image.img_to_array(test_image)\n",
    "test_image = np.expand_dims(test_image, axis = 0)\n",
    "result = My_Model.predict(test_image)\n",
    "training_set.class_indices\n",
    "if result[0][0] ==1:\n",
    "    prediction = 'DOG'\n",
    "else: \n",
    "    prediction = 'CAT'\n",
    "print(prediction)"
   ]
  },
  {
   "cell_type": "code",
   "execution_count": null,
   "id": "716db603-814a-4830-9146-c77df0e51cb9",
   "metadata": {},
   "outputs": [],
   "source": []
  },
  {
   "cell_type": "code",
   "execution_count": null,
   "id": "a9575a9c-4fec-4f55-85b4-e87717e8c7c1",
   "metadata": {},
   "outputs": [],
   "source": []
  }
 ],
 "metadata": {
  "kernelspec": {
   "display_name": "Python 3 (ipykernel)",
   "language": "python",
   "name": "python3"
  },
  "language_info": {
   "codemirror_mode": {
    "name": "ipython",
    "version": 3
   },
   "file_extension": ".py",
   "mimetype": "text/x-python",
   "name": "python",
   "nbconvert_exporter": "python",
   "pygments_lexer": "ipython3",
   "version": "3.9.19"
  }
 },
 "nbformat": 4,
 "nbformat_minor": 5
}
